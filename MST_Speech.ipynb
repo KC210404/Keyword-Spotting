{
  "nbformat": 4,
  "nbformat_minor": 0,
  "metadata": {
    "colab": {
      "provenance": []
    },
    "kernelspec": {
      "name": "python3",
      "display_name": "Python 3"
    },
    "language_info": {
      "name": "python"
    }
  },
  "cells": [
    {
      "cell_type": "code",
      "execution_count": 1,
      "metadata": {
        "id": "GzRePqX2c05i"
      },
      "outputs": [],
      "source": [
        "import tensorflow as tf\n",
        "import keras\n",
        "import keras.layers as Layers\n",
        "import keras.losses as Loss\n",
        "from IPython import display\n",
        "import matplotlib.pyplot as plt\n",
        "import numpy as np\n",
        "import pandas as pd\n",
        "import pathlib"
      ]
    },
    {
      "cell_type": "code",
      "source": [
        "DATASET_PATH = 'data/mini_speech_commands'\n",
        "\n",
        "data_dir = pathlib.Path(DATASET_PATH)\n",
        "if not data_dir.exists():\n",
        "  tf.keras.utils.get_file(\n",
        "      'mini_speech_commands.zip',\n",
        "      origin=\"http://storage.googleapis.com/download.tensorflow.org/data/mini_speech_commands.zip\",\n",
        "      extract=True,\n",
        "      cache_dir='.', cache_subdir='data')"
      ],
      "metadata": {
        "id": "Z_2Yu3yZhpM3"
      },
      "execution_count": 2,
      "outputs": []
    },
    {
      "cell_type": "code",
      "source": [
        "commands = np.array(tf.io.gfile.listdir(str(data_dir)))\n",
        "commands = commands[(commands != 'README.md') & (commands != '.DS_Store')]\n",
        "train_ds, val_ds = tf.keras.utils.audio_dataset_from_directory(\n",
        "    directory=data_dir,\n",
        "    batch_size=64,\n",
        "    validation_split=0.2,\n",
        "    seed=0,\n",
        "    output_sequence_length=16000,\n",
        "    subset='both')"
      ],
      "metadata": {
        "colab": {
          "base_uri": "https://localhost:8080/"
        },
        "id": "JezT6CiCiV1_",
        "outputId": "d3dd3d58-cf7b-4b2d-cb1e-77f2033077fd"
      },
      "execution_count": 3,
      "outputs": [
        {
          "output_type": "stream",
          "name": "stdout",
          "text": [
            "Found 8000 files belonging to 8 classes.\n",
            "Using 6400 files for training.\n",
            "Using 1600 files for validation.\n"
          ]
        }
      ]
    },
    {
      "cell_type": "code",
      "source": [
        "def squeeze(audio, labels):\n",
        "  audio = tf.squeeze(audio, axis=-1)\n",
        "  return audio, labels\n",
        "\n",
        "train_ds = train_ds.map(squeeze, tf.data.AUTOTUNE)\n",
        "val_ds = val_ds.map(squeeze, tf.data.AUTOTUNE)\n",
        "\n",
        "test_ds = val_ds.shard(num_shards=2, index=0)\n",
        "val_ds = val_ds.shard(num_shards=2, index=1)"
      ],
      "metadata": {
        "id": "k0cGiksxi3qt"
      },
      "execution_count": 4,
      "outputs": []
    },
    {
      "cell_type": "markdown",
      "source": [
        "Statistical Analysis:\n",
        "\n",
        "Two types:\n",
        "1. related to all the words in the dataset (Dataset as a whole entity for statistical examination):\n",
        "  - Train, Validation and Test split\n",
        "  - No. of words\n",
        "  - No. of classes of words\n",
        "  - Word-class distribution (with plot)\n",
        "  - No. of types of words (not classes)\n",
        "  - Average length of the audio (with plot)\n",
        "  - Words and their corresponding utterances (with plot)\n",
        "\n",
        "2. related to a single word at random (Random sample/ Example at statical examination):\n",
        "  - Waveform (plot)\n",
        "  - Fast Fourier Transform and major frequency(ies) (plot)\n",
        "  - Spectrogram (plot)\n",
        "  - MFCC (plot)\n",
        "  - Mel Spectrogram (plot)\n",
        "  - No. of vowels and Consonants"
      ],
      "metadata": {
        "id": "QmNqvqM4r5P7"
      }
    },
    {
      "cell_type": "code",
      "source": [
        "# 1. Train, test and validation split\n",
        "print(len(train_ds), len(test_ds), len(val_ds)) #in batches of size 64 with output sequence length 16000"
      ],
      "metadata": {
        "colab": {
          "base_uri": "https://localhost:8080/"
        },
        "id": "gF8t5SNZpZYM",
        "outputId": "cae9151d-bf8b-400b-cd86-f1f51a320b36"
      },
      "execution_count": 5,
      "outputs": [
        {
          "output_type": "stream",
          "name": "stdout",
          "text": [
            "100 13 12\n"
          ]
        }
      ]
    },
    {
      "cell_type": "code",
      "source": [
        "# 2. No. of files\n",
        "print((len(train_ds)+len(test_ds)+len(val_ds))*64)"
      ],
      "metadata": {
        "colab": {
          "base_uri": "https://localhost:8080/"
        },
        "id": "AQEXSTmHwQP0",
        "outputId": "a0df869d-6894-43bb-a2b1-91069a96607c"
      },
      "execution_count": 6,
      "outputs": [
        {
          "output_type": "stream",
          "name": "stdout",
          "text": [
            "8000\n"
          ]
        }
      ]
    },
    {
      "cell_type": "code",
      "source": [
        "# 3. No of classes and the class labels\n",
        "num_classes = len(commands)\n",
        "print(num_classes, commands)"
      ],
      "metadata": {
        "colab": {
          "base_uri": "https://localhost:8080/"
        },
        "id": "GOlkCtE0uN5B",
        "outputId": "f5aefaa5-d78a-4e46-bed2-f4d28c5fbee6"
      },
      "execution_count": 7,
      "outputs": [
        {
          "output_type": "stream",
          "name": "stdout",
          "text": [
            "8 ['right' 'no' 'up' 'left' 'go' 'stop' 'down' 'yes']\n"
          ]
        }
      ]
    },
    {
      "cell_type": "code",
      "source": [
        "# 4. Word-class Distribution\n",
        "from collections import Counter\n",
        "train_dist = Counter(np.concatenate([y.numpy() for x, y in train_ds]))\n",
        "val_dist = Counter(np.concatenate([y.numpy() for x, y in val_ds]))\n",
        "test_dist = Counter(np.concatenate([y.numpy() for x, y in test_ds]))\n",
        "print(train_dist)\n",
        "print(val_dist)\n",
        "print(test_dist)\n",
        "\n",
        "train_labels, train_counts = zip(*sorted(train_dist.items()))\n",
        "val_labels, val_counts = zip(*sorted(val_dist.items()))\n",
        "test_labels, test_counts = zip(*sorted(test_dist.items()))\n",
        "\n",
        "plt.figure(figsize=(18, 6))\n",
        "\n",
        "# Training data\n",
        "plt.subplot(1, 3, 1)\n",
        "plt.bar(train_labels, train_counts, color='b', alpha=0.7)\n",
        "plt.title('Training Data Class Distribution')\n",
        "plt.xlabel('Class Labels')\n",
        "plt.ylabel('Count')\n",
        "plt.xticks(train_labels)\n",
        "\n",
        "# Validation data\n",
        "plt.subplot(1, 3, 2)\n",
        "plt.bar(val_labels, val_counts, color='g', alpha=0.7)\n",
        "plt.title('Validation Data Class Distribution')\n",
        "plt.xlabel('Class Labels')\n",
        "plt.ylabel('Count')\n",
        "plt.xticks(val_labels)\n",
        "\n",
        "# Test data\n",
        "plt.subplot(1, 3, 3)\n",
        "plt.bar(test_labels, test_counts, color='r', alpha=0.7)\n",
        "plt.title('Test Data Class Distribution')\n",
        "plt.xlabel('Class Labels')\n",
        "plt.ylabel('Count')\n",
        "plt.xticks(test_labels)\n",
        "\n",
        "plt.tight_layout()\n",
        "plt.show()"
      ],
      "metadata": {
        "colab": {
          "base_uri": "https://localhost:8080/",
          "height": 543
        },
        "id": "qK1IfvyDuk9I",
        "outputId": "4486876b-59f2-4f2d-8d10-9de91c25079b"
      },
      "execution_count": 8,
      "outputs": [
        {
          "output_type": "stream",
          "name": "stdout",
          "text": [
            "Counter({1: 814, 4: 814, 7: 806, 0: 801, 6: 799, 3: 791, 2: 791, 5: 784})\n",
            "Counter({5: 105, 3: 104, 2: 101, 4: 101, 6: 98, 0: 90, 1: 86, 7: 83})\n",
            "Counter({7: 111, 5: 111, 0: 109, 2: 108, 3: 105, 6: 103, 1: 100, 4: 85})\n"
          ]
        },
        {
          "output_type": "display_data",
          "data": {
            "text/plain": [
              "<Figure size 1800x600 with 3 Axes>"
            ],
            "image/png": "[encoded data removed]"
          },
          "metadata": {}
        }
      ]
    },
    {
      "cell_type": "code",
      "source": [
        "#5. Audio lengths and Average audio length\n",
        "def get_audio_lengths(dataset):\n",
        "    lengths = []\n",
        "    for audio, _ in dataset:\n",
        "        lengths.append(audio.shape[1] / 16000)  #16KHz sample rate\n",
        "    return lengths\n",
        "\n",
        "lengths = get_audio_lengths(train_ds)\n",
        "\n",
        "plt.plot(lengths, marker='o')\n",
        "plt.title('Train Audio Lengths Plot')\n",
        "plt.xlabel('Index')\n",
        "plt.ylabel('Length (seconds)')\n",
        "plt.show()\n",
        "\n",
        "print(sum(lengths)/len(lengths))"
      ],
      "metadata": {
        "colab": {
          "base_uri": "https://localhost:8080/",
          "height": 489
        },
        "id": "E_MK9WNbvDQj",
        "outputId": "3b419f9c-edbe-43e4-8c55-14dcc13d1d87"
      },
      "execution_count": 9,
      "outputs": [
        {
          "output_type": "display_data",
          "data": {
            "text/plain": [
              "<Figure size 640x480 with 1 Axes>"
            ],
            "image/png": "[encoded data removed]"
          },
          "metadata": {}
        },
        {
          "output_type": "stream",
          "name": "stdout",
          "text": [
            "1.0\n"
          ]
        }
      ]
    },
    {
      "cell_type": "code",
      "source": [
        "# 2.1 Plot a random waveform\n",
        "import matplotlib.pyplot as plt\n",
        "\n",
        "for audio, label in train_ds.take(1):\n",
        "    plt.plot(audio[0].numpy())\n",
        "    plt.title(f\"Waveform of sample with label: {label[0].numpy()}\")\n",
        "    plt.show()\n"
      ],
      "metadata": {
        "colab": {
          "base_uri": "https://localhost:8080/",
          "height": 452
        },
        "id": "mVVyh4ScyGX6",
        "outputId": "a0f9207c-c2ad-496b-bd59-ea26676bb27f"
      },
      "execution_count": 10,
      "outputs": [
        {
          "output_type": "display_data",
          "data": {
            "text/plain": [
              "<Figure size 640x480 with 1 Axes>"
            ],
            "image/png": "[encoded data removed]"
          },
          "metadata": {}
        }
      ]
    },
    {
      "cell_type": "code",
      "source": [
        "# 2.2 Plot the first half of the FFT (positive frequencies)\n",
        "def plot_fft(audio, sample_rate=16000):\n",
        "    fft = tf.signal.fft(tf.cast(audio, tf.complex64))\n",
        "    plt.plot(np.abs(fft[:len(fft)//2]))\n",
        "    plt.title(\"FFT\")\n",
        "    plt.show()\n",
        "\n",
        "plot_fft(audio[0].numpy())"
      ],
      "metadata": {
        "colab": {
          "base_uri": "https://localhost:8080/",
          "height": 452
        },
        "id": "f3pD17Rp038T",
        "outputId": "5752a400-9e3d-4722-8095-dffe1dfd160e"
      },
      "execution_count": 11,
      "outputs": [
        {
          "output_type": "display_data",
          "data": {
            "text/plain": [
              "<Figure size 640x480 with 1 Axes>"
            ],
            "image/png": "[encoded data removed]"
          },
          "metadata": {}
        }
      ]
    },
    {
      "cell_type": "code",
      "source": [
        "#3. Spectrogram:\n",
        "def plot_spectrogram(audio, sample_rate=16000):\n",
        "    spectrogram = tf.signal.stft(audio, frame_length=255, frame_step=128)\n",
        "    spectrogram = tf.abs(spectrogram)\n",
        "\n",
        "    plt.figure(figsize=(10, 6))\n",
        "    plt.imshow(tf.transpose(spectrogram).numpy(), aspect='auto', origin='lower')\n",
        "    plt.title('Spectrogram')\n",
        "    plt.colorbar()\n",
        "    plt.show()\n",
        "\n",
        "plot_spectrogram(audio[0].numpy())\n"
      ],
      "metadata": {
        "colab": {
          "base_uri": "https://localhost:8080/",
          "height": 545
        },
        "id": "7vCpkmbv1DXt",
        "outputId": "07825aba-ed06-41fb-8df5-754678174631"
      },
      "execution_count": 12,
      "outputs": [
        {
          "output_type": "display_data",
          "data": {
            "text/plain": [
              "<Figure size 1000x600 with 2 Axes>"
            ],
            "image/png": "[encoded data removed]"
          },
          "metadata": {}
        }
      ]
    },
    {
      "cell_type": "code",
      "source": [
        "#4. MFCC\n",
        "def plot_mfcc(audio, sample_rate=16000):\n",
        "    spectrogram = tf.signal.stft(audio, frame_length=255, frame_step=128)\n",
        "    spectrogram = tf.abs(spectrogram)\n",
        "\n",
        "    num_mel_bins = 40\n",
        "    linear_to_mel_weight_matrix = tf.signal.linear_to_mel_weight_matrix(\n",
        "        num_mel_bins, spectrogram.shape[-1], sample_rate, 20, 4000)\n",
        "\n",
        "    mel_spectrogram = tf.tensordot(spectrogram, linear_to_mel_weight_matrix, 1)\n",
        "    log_mel_spectrogram = tf.math.log(mel_spectrogram + 1e-6)\n",
        "\n",
        "    mfcc = tf.signal.mfccs_from_log_mel_spectrograms(log_mel_spectrogram)[..., :13]\n",
        "\n",
        "    plt.imshow(tf.transpose(mfcc).numpy(), aspect='auto', origin='lower')\n",
        "    plt.title('MFCC')\n",
        "    plt.colorbar()\n",
        "    plt.show()\n",
        "\n",
        "plot_mfcc(audio[0].numpy())"
      ],
      "metadata": {
        "colab": {
          "base_uri": "https://localhost:8080/",
          "height": 452
        },
        "id": "kY2bn_Gb1Uoa",
        "outputId": "55244a68-29e8-4667-b135-b927f54e3ec0"
      },
      "execution_count": 13,
      "outputs": [
        {
          "output_type": "display_data",
          "data": {
            "text/plain": [
              "<Figure size 640x480 with 2 Axes>"
            ],
            "image/png": "[encoded data removed]"
          },
          "metadata": {}
        }
      ]
    },
    {
      "cell_type": "code",
      "source": [
        "#5. Mel Spectrogram\n",
        "def plot_mel_spectrogram(audio, sample_rate=16000):\n",
        "    spectrogram = tf.signal.stft(audio, frame_length=255, frame_step=128)\n",
        "    spectrogram = tf.abs(spectrogram)\n",
        "\n",
        "    num_mel_bins = 40\n",
        "    linear_to_mel_weight_matrix = tf.signal.linear_to_mel_weight_matrix(\n",
        "        num_mel_bins, spectrogram.shape[-1], sample_rate, 20, 4000)\n",
        "\n",
        "    mel_spectrogram = tf.tensordot(spectrogram, linear_to_mel_weight_matrix, 1)\n",
        "\n",
        "    plt.imshow(tf.transpose(mel_spectrogram).numpy(), aspect='auto', origin='lower')\n",
        "    plt.title('Mel Spectrogram')\n",
        "    plt.colorbar()\n",
        "    plt.show()\n",
        "\n",
        "plot_mel_spectrogram(audio[0].numpy())\n"
      ],
      "metadata": {
        "colab": {
          "base_uri": "https://localhost:8080/",
          "height": 452
        },
        "id": "4dGfjJqQ1c1r",
        "outputId": "1c0dce22-05d0-4998-aa21-a6743cd46b9e"
      },
      "execution_count": 14,
      "outputs": [
        {
          "output_type": "display_data",
          "data": {
            "text/plain": [
              "<Figure size 640x480 with 2 Axes>"
            ],
            "image/png": "[encoded data removed]"
          },
          "metadata": {}
        }
      ]
    },
    {
      "cell_type": "code",
      "source": [
        "def get_spectrogram(waveform):\n",
        "  spectrogram = tf.signal.stft(\n",
        "      waveform, frame_length=255, frame_step=128)\n",
        "  spectrogram = tf.abs(spectrogram)\n",
        "  spectrogram = spectrogram[..., tf.newaxis]\n",
        "  return spectrogram\n",
        "\n",
        "def make_spec_ds(ds):\n",
        "  return ds.map(\n",
        "      map_func=lambda audio,label: (get_spectrogram(audio), label),\n",
        "      num_parallel_calls=tf.data.AUTOTUNE)\n",
        "\n",
        "train_spectrogram_ds = make_spec_ds(train_ds)\n",
        "val_spectrogram_ds = make_spec_ds(val_ds)\n",
        "test_spectrogram_ds = make_spec_ds(test_ds)\n",
        "\n",
        "train_spectrogram_ds = train_spectrogram_ds.cache().shuffle(10000).prefetch(tf.data.AUTOTUNE)\n",
        "val_spectrogram_ds = val_spectrogram_ds.cache().prefetch(tf.data.AUTOTUNE)\n",
        "test_spectrogram_ds = test_spectrogram_ds.cache().prefetch(tf.data.AUTOTUNE)\n",
        "\n",
        "for example_spectrograms, example_spect_labels in train_spectrogram_ds.take(1):\n",
        "  break\n",
        "input_shape = example_spectrograms.shape[1:]\n",
        "num_labels = len(commands)\n",
        "\n",
        "norm_layer = Layers.Normalization()\n",
        "\n",
        "norm_layer.adapt(data=train_spectrogram_ds.map(map_func=lambda spec, label: spec))\n",
        "\n",
        "model = keras.Sequential([\n",
        "    Layers.Input(shape=input_shape),\n",
        "    Layers.Resizing(32, 32),\n",
        "    # Normalize.\n",
        "    norm_layer,\n",
        "    Layers.Conv2D(32, 3, activation='relu'),\n",
        "    Layers.Conv2D(64, 3, activation='relu'),\n",
        "    Layers.MaxPooling2D(),\n",
        "    Layers.Dropout(0.25),\n",
        "    Layers.Flatten(),\n",
        "    Layers.Dense(128, activation='relu'),\n",
        "    Layers.Dropout(0.5),\n",
        "    Layers.Dense(num_labels),\n",
        "])\n",
        "\n",
        "model.summary()"
      ],
      "metadata": {
        "colab": {
          "base_uri": "https://localhost:8080/"
        },
        "id": "jkrLMHf91nXS",
        "outputId": "3997655b-43f8-495a-d14f-a669a20a7681"
      },
      "execution_count": 15,
      "outputs": [
        {
          "output_type": "stream",
          "name": "stdout",
          "text": [
            "Model: \"sequential\"\n",
            "_________________________________________________________________\n",
            " Layer (type)                Output Shape              Param #   \n",
            "=================================================================\n",
            " resizing (Resizing)         (None, 32, 32, 1)         0         \n",
            "                                                                 \n",
            " normalization (Normalizati  (None, 32, 32, 1)         3         \n",
            " on)                                                             \n",
            "                                                                 \n",
            " conv2d (Conv2D)             (None, 30, 30, 32)        320       \n",
            "                                                                 \n",
            " conv2d_1 (Conv2D)           (None, 28, 28, 64)        18496     \n",
            "                                                                 \n",
            " max_pooling2d (MaxPooling2  (None, 14, 14, 64)        0         \n",
            " D)                                                              \n",
            "                                                                 \n",
            " dropout (Dropout)           (None, 14, 14, 64)        0         \n",
            "                                                                 \n",
            " flatten (Flatten)           (None, 12544)             0         \n",
            "                                                                 \n",
            " dense (Dense)               (None, 128)               1605760   \n",
            "                                                                 \n",
            " dropout_1 (Dropout)         (None, 128)               0         \n",
            "                                                                 \n",
            " dense_1 (Dense)             (None, 8)                 1032      \n",
            "                                                                 \n",
            "=================================================================\n",
            "Total params: 1625611 (6.20 MB)\n",
            "Trainable params: 1625608 (6.20 MB)\n",
            "Non-trainable params: 3 (16.00 Byte)\n",
            "_________________________________________________________________\n"
          ]
        }
      ]
    },
    {
      "cell_type": "code",
      "source": [
        "model.compile(\n",
        "    optimizer=tf.keras.optimizers.Adam(),\n",
        "    loss=tf.keras.losses.SparseCategoricalCrossentropy(from_logits=True),\n",
        "    metrics=['accuracy'],\n",
        ")"
      ],
      "metadata": {
        "id": "HG0eQz716m1u"
      },
      "execution_count": 16,
      "outputs": []
    },
    {
      "cell_type": "code",
      "source": [
        "EPOCHS = 10\n",
        "history = model.fit(\n",
        "    train_spectrogram_ds,\n",
        "    validation_data=val_spectrogram_ds,\n",
        "    epochs=EPOCHS,\n",
        "    callbacks=tf.keras.callbacks.EarlyStopping(verbose=1, patience=2),\n",
        ")"
      ],
      "metadata": {
        "colab": {
          "base_uri": "https://localhost:8080/"
        },
        "id": "1YQBGSzM6ste",
        "outputId": "1d9222c5-c40a-46bd-94b8-c128f58503e5"
      },
      "execution_count": 17,
      "outputs": [
        {
          "output_type": "stream",
          "name": "stdout",
          "text": [
            "Epoch 1/10\n",
            "100/100 [==============================] - 53s 486ms/step - loss: 1.7514 - accuracy: 0.3666 - val_loss: 1.2820 - val_accuracy: 0.5938\n",
            "Epoch 2/10\n",
            "100/100 [==============================] - 26s 263ms/step - loss: 1.1558 - accuracy: 0.5945 - val_loss: 0.8973 - val_accuracy: 0.7214\n",
            "Epoch 3/10\n",
            "100/100 [==============================] - 25s 249ms/step - loss: 0.8735 - accuracy: 0.6956 - val_loss: 0.7105 - val_accuracy: 0.7839\n",
            "Epoch 4/10\n",
            "100/100 [==============================] - 24s 238ms/step - loss: 0.6982 - accuracy: 0.7527 - val_loss: 0.6422 - val_accuracy: 0.8060\n",
            "Epoch 5/10\n",
            "100/100 [==============================] - 25s 250ms/step - loss: 0.5798 - accuracy: 0.7972 - val_loss: 0.5854 - val_accuracy: 0.8099\n",
            "Epoch 6/10\n",
            "100/100 [==============================] - 25s 252ms/step - loss: 0.5088 - accuracy: 0.8266 - val_loss: 0.5102 - val_accuracy: 0.8438\n",
            "Epoch 7/10\n",
            "100/100 [==============================] - 34s 336ms/step - loss: 0.4404 - accuracy: 0.8489 - val_loss: 0.4697 - val_accuracy: 0.8607\n",
            "Epoch 8/10\n",
            "100/100 [==============================] - 38s 380ms/step - loss: 0.3942 - accuracy: 0.8583 - val_loss: 0.4810 - val_accuracy: 0.8555\n",
            "Epoch 9/10\n",
            "100/100 [==============================] - 24s 237ms/step - loss: 0.3695 - accuracy: 0.8697 - val_loss: 0.4622 - val_accuracy: 0.8451\n",
            "Epoch 10/10\n",
            "100/100 [==============================] - 22s 219ms/step - loss: 0.3202 - accuracy: 0.8878 - val_loss: 0.4829 - val_accuracy: 0.8542\n"
          ]
        }
      ]
    },
    {
      "cell_type": "code",
      "source": [
        "model.save('data/my_model.h5')"
      ],
      "metadata": {
        "colab": {
          "base_uri": "https://localhost:8080/"
        },
        "id": "aGwzGDLO8gmZ",
        "outputId": "63550522-7612-48e0-d5ad-576f17358811"
      },
      "execution_count": 18,
      "outputs": [
        {
          "output_type": "stream",
          "name": "stderr",
          "text": [
            "/usr/local/lib/python3.10/dist-packages/keras/src/engine/training.py:3103: UserWarning: You are saving your model as an HDF5 file via `model.save()`. This file format is considered legacy. We recommend using instead the native Keras format, e.g. `model.save('my_model.keras')`.\n",
            "  saving_api.save_model(\n"
          ]
        }
      ]
    },
    {
      "cell_type": "code",
      "source": [
        "loaded_model = tf.keras.models.load_model('data/my_model.h5')"
      ],
      "metadata": {
        "id": "lfBY_-Yk9QID"
      },
      "execution_count": 19,
      "outputs": []
    },
    {
      "cell_type": "code",
      "source": [
        "model.get_weights()"
      ],
      "metadata": {
        "colab": {
          "base_uri": "https://localhost:8080/"
        },
        "id": "-cKY4cmv9bjs",
        "outputId": "50318108-b473-4acb-8d3a-8688283e2bfb"
      },
      "execution_count": 20,
      "outputs": [
        {
          "output_type": "execute_result",
          "data": {
            "text/plain": [
              "[array([0.12540944], dtype=float32),\n",
              " array([0.58403146], dtype=float32),\n",
              " 102374400,\n",
              " array([[[[-0.18042597,  0.02216954,  0.05076506,  0.08503924,\n",
              "           -0.03493309, -0.28820342, -0.06625488, -0.14067258,\n",
              "           -0.11451851, -0.14577071, -0.0170001 ,  0.12949984,\n",
              "            0.18749413,  0.15297605, -0.05969385, -0.16474694,\n",
              "           -0.2202094 ,  0.17375003,  0.09463267, -0.07889087,\n",
              "           -0.310108  , -0.07648278, -0.24164812,  0.19719934,\n",
              "            0.07276873,  0.02316279,  0.14650178, -0.07143436,\n",
              "            0.24539652,  0.04708688,  0.2539073 ,  0.00761098]],\n",
              " \n",
              "         [[-0.15154889,  0.23349345,  0.1361718 ,  0.20137334,\n",
              "           -0.03153667, -0.18627624, -0.08529363, -0.17005043,\n",
              "            0.19268091, -0.08838909,  0.24093154,  0.15617625,\n",
              "           -0.04129148, -0.10910138, -0.13667203, -0.05497975,\n",
              "            0.18677352,  0.20717943, -0.12564257, -0.00139534,\n",
              "           -0.07200535, -0.26044667, -0.13576834,  0.1601185 ,\n",
              "           -0.1799475 , -0.20185146,  0.19184011,  0.02402049,\n",
              "            0.12626967,  0.08221287, -0.07837228,  0.09210244]],\n",
              " \n",
              "         [[-0.12536924,  0.13254438, -0.0344108 ,  0.19153015,\n",
              "           -0.16000807,  0.07056629,  0.04780744, -0.05808603,\n",
              "            0.03013705, -0.14406492, -0.00661081,  0.06283073,\n",
              "           -0.09442904, -0.14485955,  0.09967773,  0.15978445,\n",
              "            0.09209298,  0.1452023 , -0.15137713,  0.15279476,\n",
              "            0.06240372, -0.17957804,  0.01464401, -0.12824585,\n",
              "           -0.05148513,  0.0238682 ,  0.10064559,  0.17667992,\n",
              "            0.13880488,  0.08836601, -0.06575197, -0.09619086]]],\n",
              " \n",
              " \n",
              "        [[[ 0.16461426,  0.11813973,  0.06192413,  0.06956533,\n",
              "           -0.17074445, -0.18348931,  0.18464029, -0.14024192,\n",
              "           -0.11491517, -0.07249051, -0.06876922, -0.191677  ,\n",
              "           -0.0253886 ,  0.04794169,  0.06445975,  0.24600677,\n",
              "           -0.12776758,  0.06750468,  0.21840507,  0.13271104,\n",
              "           -0.23448546,  0.09417811,  0.07768394,  0.12101841,\n",
              "           -0.08626014, -0.00089013, -0.2203996 ,  0.08133517,\n",
              "            0.05271015,  0.06069488, -0.04856063,  0.08923163]],\n",
              " \n",
              "         [[-0.13000585,  0.04497942,  0.21841799, -0.02189719,\n",
              "           -0.19318865, -0.07833748,  0.20350267,  0.01493492,\n",
              "           -0.121274  , -0.07152356,  0.24921897,  0.11881223,\n",
              "            0.04710643, -0.13855465,  0.06313277, -0.09033518,\n",
              "            0.09981838,  0.18960306, -0.08305769,  0.09698203,\n",
              "            0.06464159, -0.111749  ,  0.03166399,  0.09704017,\n",
              "            0.1609968 ,  0.13186851, -0.00460069, -0.02863657,\n",
              "            0.1027635 , -0.07073544,  0.09921505,  0.03678003]],\n",
              " \n",
              "         [[ 0.08308184,  0.08639136, -0.12638406, -0.06441129,\n",
              "           -0.12988763,  0.20919529,  0.03572603,  0.09773725,\n",
              "            0.13743784, -0.04030732, -0.028617  ,  0.05395749,\n",
              "            0.1721063 , -0.09725235, -0.02421356,  0.06202526,\n",
              "            0.00186197,  0.17368038, -0.22052877,  0.16913812,\n",
              "            0.20193857, -0.18798137,  0.08336716,  0.16463107,\n",
              "            0.16797951,  0.06469348,  0.13382407,  0.1630239 ,\n",
              "           -0.05550546, -0.14959277, -0.2049752 , -0.234369  ]]],\n",
              " \n",
              " \n",
              "        [[[-0.13483882,  0.2749161 , -0.01544556,  0.10536963,\n",
              "            0.1401728 ,  0.03358531,  0.22336887, -0.07019719,\n",
              "           -0.17831075,  0.11957475, -0.13237417, -0.26426503,\n",
              "           -0.12940298,  0.13121799,  0.18804167, -0.18016183,\n",
              "           -0.0523479 ,  0.0037675 ,  0.1414142 , -0.25658548,\n",
              "           -0.00069086,  0.1468497 ,  0.17769961, -0.18770143,\n",
              "           -0.06109356,  0.01808232, -0.32759508,  0.15886772,\n",
              "           -0.19581243,  0.12268613, -0.12528662,  0.15318264]],\n",
              " \n",
              "         [[ 0.02963001,  0.22477843,  0.14527053, -0.20494653,\n",
              "            0.0178342 ,  0.162653  ,  0.16725385,  0.10677695,\n",
              "           -0.02402179, -0.15269473,  0.11684924, -0.09650519,\n",
              "            0.02418133, -0.1237898 ,  0.2083153 ,  0.09559622,\n",
              "            0.18030335,  0.06733115,  0.02816093, -0.2829773 ,\n",
              "            0.18191263,  0.11881012,  0.00412149, -0.1231427 ,\n",
              "           -0.00834251,  0.24526754, -0.12256605, -0.05030072,\n",
              "           -0.25246423,  0.00562171,  0.14406587, -0.13798584]],\n",
              " \n",
              "         [[-0.06408378,  0.1045321 , -0.04231509, -0.32669082,\n",
              "            0.07738937,  0.09729015, -0.13269727,  0.05511135,\n",
              "           -0.1218067 , -0.13748738,  0.04588204,  0.14796934,\n",
              "            0.19827563, -0.15170129, -0.07269078, -0.1399625 ,\n",
              "            0.04168111,  0.07062356, -0.16561273, -0.05101012,\n",
              "            0.09541286,  0.10026392,  0.11268413, -0.0039365 ,\n",
              "            0.14984107, -0.1239355 , -0.11872365, -0.05069094,\n",
              "           -0.11824456, -0.1286691 , -0.21892813,  0.04693387]]]],\n",
              "       dtype=float32),\n",
              " array([-0.03394417, -0.25223336,  0.05201078,  0.04119451, -0.02738373,\n",
              "         0.02701546,  0.06954246, -0.01229408, -0.01449563, -0.04728764,\n",
              "         0.05629185,  0.04603935,  0.08166539, -0.01232528,  0.05288593,\n",
              "         0.00040247,  0.0476539 ,  0.04238018, -0.00031821,  0.01668024,\n",
              "         0.03700211, -0.01504425,  0.0559615 ,  0.06723218,  0.05080149,\n",
              "         0.03145681,  0.02988378,  0.06845988,  0.0498997 ,  0.06397536,\n",
              "        -0.00241895,  0.01645468], dtype=float32),\n",
              " array([[[[-0.10821483, -0.03833842,  0.13485491, ...,  0.04517952,\n",
              "            0.00868251,  0.09492791],\n",
              "          [-0.05465959, -0.11295623, -0.03672935, ..., -0.19126846,\n",
              "            0.05350194, -0.01642462],\n",
              "          [-0.00696217,  0.01595991, -0.04819819, ..., -0.23654369,\n",
              "           -0.06345387, -0.03759658],\n",
              "          ...,\n",
              "          [-0.05465874, -0.09105972, -0.06152283, ..., -0.1157951 ,\n",
              "           -0.02697791, -0.06309983],\n",
              "          [-0.06666316, -0.03429225, -0.03164048, ...,  0.04260039,\n",
              "            0.02673751,  0.05568435],\n",
              "          [-0.0345801 , -0.15329942, -0.02513042, ..., -0.00541122,\n",
              "           -0.05737349,  0.02840146]],\n",
              " \n",
              "         [[-0.09417479, -0.0376308 , -0.00205201, ...,  0.02955385,\n",
              "            0.05763848, -0.03387516],\n",
              "          [-0.1273497 ,  0.07341304, -0.08456208, ..., -0.02237288,\n",
              "            0.06325269, -0.13237788],\n",
              "          [-0.00058756, -0.06167154,  0.00244153, ..., -0.08396032,\n",
              "            0.03200331, -0.14270575],\n",
              "          ...,\n",
              "          [ 0.08093132,  0.09728274, -0.05517563, ..., -0.09654368,\n",
              "            0.03636721, -0.01542377],\n",
              "          [ 0.05758945,  0.00755464, -0.062911  , ..., -0.10488506,\n",
              "            0.05518281, -0.08916891],\n",
              "          [ 0.12786645, -0.01753226,  0.01459156, ..., -0.08817994,\n",
              "            0.05651386, -0.01359083]],\n",
              " \n",
              "         [[-0.05768333, -0.0156081 ,  0.01879227, ...,  0.02440817,\n",
              "            0.02991195, -0.05470924],\n",
              "          [-0.1266889 , -0.04421519, -0.0986816 , ..., -0.09866591,\n",
              "            0.01236488,  0.0188803 ],\n",
              "          [-0.03914505,  0.01151133, -0.06842286, ..., -0.06445634,\n",
              "            0.04923302, -0.02290412],\n",
              "          ...,\n",
              "          [-0.00982458,  0.0535224 ,  0.02497586, ...,  0.00784453,\n",
              "           -0.03604583, -0.05714228],\n",
              "          [ 0.13599741,  0.02302975, -0.07385439, ..., -0.08260916,\n",
              "           -0.03147842, -0.02123233],\n",
              "          [-0.18778664,  0.08047662, -0.04570647, ..., -0.06455979,\n",
              "           -0.14582433, -0.09215831]]],\n",
              " \n",
              " \n",
              "        [[[-0.04369872,  0.0553687 ,  0.03543124, ...,  0.02117273,\n",
              "           -0.01653797,  0.1322493 ],\n",
              "          [-0.12089878,  0.00251377, -0.04167945, ..., -0.09739213,\n",
              "           -0.06256263, -0.1958888 ],\n",
              "          [ 0.07326685, -0.0265367 , -0.15294366, ...,  0.00600037,\n",
              "           -0.02620547, -0.09902973],\n",
              "          ...,\n",
              "          [ 0.05559771, -0.09741655, -0.01663653, ..., -0.15556748,\n",
              "           -0.08202868,  0.04174768],\n",
              "          [-0.01325713, -0.13135132, -0.02674104, ..., -0.11878651,\n",
              "           -0.03935574, -0.01428362],\n",
              "          [ 0.17715088, -0.07882742, -0.02843486, ..., -0.15063016,\n",
              "           -0.04378492, -0.00987517]],\n",
              " \n",
              "         [[ 0.03827167, -0.07261149,  0.01510574, ...,  0.03649618,\n",
              "           -0.06106484,  0.05131654],\n",
              "          [-0.21136555, -0.04058828, -0.11759762, ..., -0.07189859,\n",
              "           -0.08723715, -0.1406664 ],\n",
              "          [-0.14585023,  0.01422272,  0.01533225, ...,  0.01798565,\n",
              "            0.01080517, -0.12727363],\n",
              "          ...,\n",
              "          [ 0.10291023, -0.03948488, -0.13256747, ..., -0.15198524,\n",
              "           -0.120839  , -0.03893774],\n",
              "          [ 0.17764962, -0.00056146, -0.03029879, ..., -0.16018336,\n",
              "            0.03436172, -0.0699802 ],\n",
              "          [ 0.03425163, -0.05008846, -0.05667821, ..., -0.06374839,\n",
              "            0.01796028, -0.0924248 ]],\n",
              " \n",
              "         [[ 0.07732154, -0.02598471, -0.0794457 , ..., -0.00270725,\n",
              "            0.01151364, -0.02363285],\n",
              "          [-0.10983942,  0.01238607, -0.15768845, ..., -0.04044701,\n",
              "            0.03501153, -0.14665976],\n",
              "          [-0.19419494,  0.0092242 , -0.03144878, ..., -0.07086068,\n",
              "            0.10092206, -0.03083463],\n",
              "          ...,\n",
              "          [-0.08549005,  0.10388968, -0.03483623, ...,  0.04962676,\n",
              "            0.04204665, -0.08854534],\n",
              "          [ 0.09627482,  0.02129069, -0.03170868, ..., -0.17420623,\n",
              "           -0.0059292 ,  0.00952864],\n",
              "          [-0.10240855, -0.01629798,  0.01174975, ..., -0.08315431,\n",
              "           -0.06319948, -0.00660159]]],\n",
              " \n",
              " \n",
              "        [[[ 0.00057072, -0.07478852, -0.0111966 , ..., -0.09480195,\n",
              "           -0.07990405,  0.09253953],\n",
              "          [ 0.01108423, -0.07278369, -0.11690895, ..., -0.04168387,\n",
              "           -0.10505199, -0.12490107],\n",
              "          [ 0.03742249,  0.06467263, -0.16227095, ...,  0.0652811 ,\n",
              "           -0.01066752, -0.06817266],\n",
              "          ...,\n",
              "          [ 0.03077093, -0.0829298 , -0.06942087, ..., -0.08295844,\n",
              "            0.03125983, -0.11507525],\n",
              "          [-0.01641634, -0.04793831, -0.08766581, ..., -0.13530584,\n",
              "           -0.08565209, -0.12030014],\n",
              "          [ 0.04766933, -0.00300364, -0.039286  , ..., -0.01639152,\n",
              "            0.01170844, -0.09122844]],\n",
              " \n",
              "         [[ 0.07130656, -0.10140235,  0.0461713 , ..., -0.00353846,\n",
              "            0.05110229, -0.07323338],\n",
              "          [-0.11944207,  0.03047549, -0.09903438, ..., -0.02649471,\n",
              "           -0.04366285, -0.15295936],\n",
              "          [-0.14634588,  0.05531354, -0.07680236, ..., -0.03430948,\n",
              "           -0.06243801,  0.04135852],\n",
              "          ...,\n",
              "          [-0.07208728,  0.06618751, -0.09235392, ..., -0.0433132 ,\n",
              "           -0.00706023, -0.03509125],\n",
              "          [ 0.03430828, -0.11666778, -0.01158019, ..., -0.17535055,\n",
              "           -0.07352792, -0.08136512],\n",
              "          [-0.05233266,  0.15130767, -0.14430973, ..., -0.01240084,\n",
              "            0.01919061, -0.01075514]],\n",
              " \n",
              "         [[ 0.10551063, -0.06923203, -0.11674408, ..., -0.05589498,\n",
              "            0.01569363, -0.03943565],\n",
              "          [ 0.04521336, -0.08280582, -0.08440012, ..., -0.00828566,\n",
              "           -0.01031575, -0.00726883],\n",
              "          [-0.1752704 ,  0.00246706,  0.04659245, ...,  0.08793316,\n",
              "            0.00325967,  0.01072298],\n",
              "          ...,\n",
              "          [ 0.03738014,  0.01730078, -0.02213426, ...,  0.06700616,\n",
              "           -0.10140979,  0.0307382 ],\n",
              "          [ 0.04616224,  0.09063065, -0.14432833, ..., -0.1690359 ,\n",
              "            0.07002479,  0.0191849 ],\n",
              "          [ 0.10779401, -0.0193812 ,  0.09193207, ...,  0.00364765,\n",
              "           -0.09558333,  0.04432191]]]], dtype=float32),\n",
              " array([ 0.04382074,  0.06137853,  0.06199392,  0.04924275,  0.04875767,\n",
              "         0.04123706,  0.03865517,  0.0505235 ,  0.03788742,  0.0510761 ,\n",
              "         0.04672027,  0.00253323,  0.04575808,  0.01096216,  0.03954783,\n",
              "         0.02060091,  0.07845169,  0.09807488,  0.05969631,  0.04790859,\n",
              "        -0.00177876,  0.02444114,  0.03464151,  0.05681867,  0.0208379 ,\n",
              "         0.02578388,  0.0902527 ,  0.04341346,  0.09972771,  0.07094256,\n",
              "         0.04990244,  0.07120488,  0.04071376,  0.14534053,  0.0253584 ,\n",
              "         0.05676542,  0.09498917,  0.08063383,  0.07874638,  0.0432664 ,\n",
              "         0.00822304,  0.07914083,  0.0740671 ,  0.05576278,  0.10608338,\n",
              "         0.01706041,  0.05413856,  0.05098448,  0.01349002,  0.05462848,\n",
              "         0.04601474,  0.04387707,  0.03203465,  0.05263904,  0.05893895,\n",
              "         0.0454275 , -0.01396328,  0.02066221,  0.04971823,  0.02358111,\n",
              "         0.0134995 ,  0.06547111,  0.02158405,  0.05402281], dtype=float32),\n",
              " array([[-0.02708108, -0.00647212, -0.01821722, ...,  0.02758401,\n",
              "         -0.04539122,  0.04274639],\n",
              "        [-0.00052659,  0.03510313,  0.03841071, ..., -0.01852643,\n",
              "         -0.01497613,  0.00124462],\n",
              "        [-0.00064371, -0.0266526 ,  0.02842342, ..., -0.00553814,\n",
              "          0.01985536,  0.03411352],\n",
              "        ...,\n",
              "        [ 0.00578002,  0.04245099, -0.01998601, ...,  0.0313944 ,\n",
              "          0.03094228, -0.0135924 ],\n",
              "        [ 0.01316732,  0.01306541, -0.03333373, ..., -0.00561409,\n",
              "         -0.00955721, -0.01970254],\n",
              "        [-0.00993221,  0.00919268,  0.02607595, ...,  0.00936611,\n",
              "          0.01700274, -0.04588274]], dtype=float32),\n",
              " array([-0.0060049 ,  0.03483714,  0.02484563,  0.01606606, -0.00201904,\n",
              "        -0.0337011 ,  0.05031387,  0.01243242,  0.0286791 ,  0.02195048,\n",
              "        -0.0143242 ,  0.01603522,  0.04004373, -0.01105571,  0.01466558,\n",
              "         0.00329635, -0.00214739,  0.01344733, -0.00659631,  0.02110765,\n",
              "         0.00665123,  0.0320421 ,  0.02875713,  0.03776467,  0.00512979,\n",
              "        -0.0061393 ,  0.01063987,  0.03261143,  0.05456765,  0.00329297,\n",
              "         0.00678253,  0.00801672,  0.01270269,  0.02471603, -0.00722989,\n",
              "         0.03179599, -0.01684437,  0.01775789,  0.01620651,  0.01328454,\n",
              "         0.04023552,  0.01851492,  0.0030824 ,  0.02521332, -0.00582478,\n",
              "        -0.00601438,  0.01120959,  0.03772589,  0.03671368,  0.03032619,\n",
              "         0.03228194,  0.02522646,  0.00484827, -0.00993999,  0.0297098 ,\n",
              "         0.01067395, -0.00754454, -0.00877604, -0.00353417, -0.00869491,\n",
              "         0.03970776,  0.0326773 ,  0.01007379,  0.02455921,  0.01994691,\n",
              "         0.01244604, -0.00609599,  0.0270106 , -0.01232171, -0.02078562,\n",
              "         0.03898162, -0.00124805,  0.02869239, -0.00169179,  0.00157706,\n",
              "        -0.00686292, -0.00156331,  0.00849978,  0.01205874, -0.00102405,\n",
              "         0.02935015,  0.02099492,  0.0101632 ,  0.01215241,  0.00875262,\n",
              "         0.02168803,  0.03316841, -0.00820865, -0.01321101,  0.02917584,\n",
              "         0.03007953,  0.03355059, -0.0059977 ,  0.03792997, -0.00790008,\n",
              "         0.03260273,  0.0393559 ,  0.0164529 , -0.00726448,  0.0064293 ,\n",
              "         0.02552444,  0.01844712, -0.00600507,  0.02151635,  0.01693784,\n",
              "        -0.00269147,  0.00522554,  0.00352292, -0.00882581,  0.03504357,\n",
              "         0.0187511 ,  0.04452959,  0.0480634 ,  0.04266472,  0.01403182,\n",
              "         0.00455218, -0.00629866, -0.00705401,  0.02882238,  0.01671314,\n",
              "         0.0089712 , -0.00600321, -0.01287389,  0.03081471,  0.02693645,\n",
              "         0.00196614,  0.0317058 ,  0.01933269], dtype=float32),\n",
              " array([[-0.1717962 , -0.15675025,  0.19794518, ...,  0.16296312,\n",
              "         -0.1941092 , -0.09802681],\n",
              "        [-0.32447657,  0.02568877, -0.00211901, ...,  0.07614198,\n",
              "          0.19001779, -0.25557375],\n",
              "        [ 0.12053067,  0.148115  , -0.03374873, ..., -0.13921644,\n",
              "          0.06077375, -0.27768055],\n",
              "        ...,\n",
              "        [-0.18796283, -0.09820932,  0.21783526, ...,  0.05962209,\n",
              "          0.00065904,  0.23375522],\n",
              "        [ 0.13096242,  0.16526906, -0.2946211 , ..., -0.21708159,\n",
              "         -0.17152476,  0.15242545],\n",
              "        [-0.11934649,  0.01150055,  0.18547997, ...,  0.19007699,\n",
              "         -0.27701735, -0.02766911]], dtype=float32),\n",
              " array([-0.01385284,  0.0130413 , -0.0031235 ,  0.06786706,  0.00229667,\n",
              "        -0.10173438,  0.02230898, -0.01099152], dtype=float32)]"
            ]
          },
          "metadata": {},
          "execution_count": 20
        }
      ]
    },
    {
      "cell_type": "code",
      "source": [
        "loaded_model.get_weights()"
      ],
      "metadata": {
        "colab": {
          "base_uri": "https://localhost:8080/"
        },
        "id": "DsKqzpAm9m8w",
        "outputId": "261e8db3-7519-46c6-f071-aa5e003b5f16"
      },
      "execution_count": 21,
      "outputs": [
        {
          "output_type": "execute_result",
          "data": {
            "text/plain": [
              "[array([0.12540944], dtype=float32),\n",
              " array([0.58403146], dtype=float32),\n",
              " 102374400,\n",
              " array([[[[-0.18042597,  0.02216954,  0.05076506,  0.08503924,\n",
              "           -0.03493309, -0.28820342, -0.06625488, -0.14067258,\n",
              "           -0.11451851, -0.14577071, -0.0170001 ,  0.12949984,\n",
              "            0.18749413,  0.15297605, -0.05969385, -0.16474694,\n",
              "           -0.2202094 ,  0.17375003,  0.09463267, -0.07889087,\n",
              "           -0.310108  , -0.07648278, -0.24164812,  0.19719934,\n",
              "            0.07276873,  0.02316279,  0.14650178, -0.07143436,\n",
              "            0.24539652,  0.04708688,  0.2539073 ,  0.00761098]],\n",
              " \n",
              "         [[-0.15154889,  0.23349345,  0.1361718 ,  0.20137334,\n",
              "           -0.03153667, -0.18627624, -0.08529363, -0.17005043,\n",
              "            0.19268091, -0.08838909,  0.24093154,  0.15617625,\n",
              "           -0.04129148, -0.10910138, -0.13667203, -0.05497975,\n",
              "            0.18677352,  0.20717943, -0.12564257, -0.00139534,\n",
              "           -0.07200535, -0.26044667, -0.13576834,  0.1601185 ,\n",
              "           -0.1799475 , -0.20185146,  0.19184011,  0.02402049,\n",
              "            0.12626967,  0.08221287, -0.07837228,  0.09210244]],\n",
              " \n",
              "         [[-0.12536924,  0.13254438, -0.0344108 ,  0.19153015,\n",
              "           -0.16000807,  0.07056629,  0.04780744, -0.05808603,\n",
              "            0.03013705, -0.14406492, -0.00661081,  0.06283073,\n",
              "           -0.09442904, -0.14485955,  0.09967773,  0.15978445,\n",
              "            0.09209298,  0.1452023 , -0.15137713,  0.15279476,\n",
              "            0.06240372, -0.17957804,  0.01464401, -0.12824585,\n",
              "           -0.05148513,  0.0238682 ,  0.10064559,  0.17667992,\n",
              "            0.13880488,  0.08836601, -0.06575197, -0.09619086]]],\n",
              " \n",
              " \n",
              "        [[[ 0.16461426,  0.11813973,  0.06192413,  0.06956533,\n",
              "           -0.17074445, -0.18348931,  0.18464029, -0.14024192,\n",
              "           -0.11491517, -0.07249051, -0.06876922, -0.191677  ,\n",
              "           -0.0253886 ,  0.04794169,  0.06445975,  0.24600677,\n",
              "           -0.12776758,  0.06750468,  0.21840507,  0.13271104,\n",
              "           -0.23448546,  0.09417811,  0.07768394,  0.12101841,\n",
              "           -0.08626014, -0.00089013, -0.2203996 ,  0.08133517,\n",
              "            0.05271015,  0.06069488, -0.04856063,  0.08923163]],\n",
              " \n",
              "         [[-0.13000585,  0.04497942,  0.21841799, -0.02189719,\n",
              "           -0.19318865, -0.07833748,  0.20350267,  0.01493492,\n",
              "           -0.121274  , -0.07152356,  0.24921897,  0.11881223,\n",
              "            0.04710643, -0.13855465,  0.06313277, -0.09033518,\n",
              "            0.09981838,  0.18960306, -0.08305769,  0.09698203,\n",
              "            0.06464159, -0.111749  ,  0.03166399,  0.09704017,\n",
              "            0.1609968 ,  0.13186851, -0.00460069, -0.02863657,\n",
              "            0.1027635 , -0.07073544,  0.09921505,  0.03678003]],\n",
              " \n",
              "         [[ 0.08308184,  0.08639136, -0.12638406, -0.06441129,\n",
              "           -0.12988763,  0.20919529,  0.03572603,  0.09773725,\n",
              "            0.13743784, -0.04030732, -0.028617  ,  0.05395749,\n",
              "            0.1721063 , -0.09725235, -0.02421356,  0.06202526,\n",
              "            0.00186197,  0.17368038, -0.22052877,  0.16913812,\n",
              "            0.20193857, -0.18798137,  0.08336716,  0.16463107,\n",
              "            0.16797951,  0.06469348,  0.13382407,  0.1630239 ,\n",
              "           -0.05550546, -0.14959277, -0.2049752 , -0.234369  ]]],\n",
              " \n",
              " \n",
              "        [[[-0.13483882,  0.2749161 , -0.01544556,  0.10536963,\n",
              "            0.1401728 ,  0.03358531,  0.22336887, -0.07019719,\n",
              "           -0.17831075,  0.11957475, -0.13237417, -0.26426503,\n",
              "           -0.12940298,  0.13121799,  0.18804167, -0.18016183,\n",
              "           -0.0523479 ,  0.0037675 ,  0.1414142 , -0.25658548,\n",
              "           -0.00069086,  0.1468497 ,  0.17769961, -0.18770143,\n",
              "           -0.06109356,  0.01808232, -0.32759508,  0.15886772,\n",
              "           -0.19581243,  0.12268613, -0.12528662,  0.15318264]],\n",
              " \n",
              "         [[ 0.02963001,  0.22477843,  0.14527053, -0.20494653,\n",
              "            0.0178342 ,  0.162653  ,  0.16725385,  0.10677695,\n",
              "           -0.02402179, -0.15269473,  0.11684924, -0.09650519,\n",
              "            0.02418133, -0.1237898 ,  0.2083153 ,  0.09559622,\n",
              "            0.18030335,  0.06733115,  0.02816093, -0.2829773 ,\n",
              "            0.18191263,  0.11881012,  0.00412149, -0.1231427 ,\n",
              "           -0.00834251,  0.24526754, -0.12256605, -0.05030072,\n",
              "           -0.25246423,  0.00562171,  0.14406587, -0.13798584]],\n",
              " \n",
              "         [[-0.06408378,  0.1045321 , -0.04231509, -0.32669082,\n",
              "            0.07738937,  0.09729015, -0.13269727,  0.05511135,\n",
              "           -0.1218067 , -0.13748738,  0.04588204,  0.14796934,\n",
              "            0.19827563, -0.15170129, -0.07269078, -0.1399625 ,\n",
              "            0.04168111,  0.07062356, -0.16561273, -0.05101012,\n",
              "            0.09541286,  0.10026392,  0.11268413, -0.0039365 ,\n",
              "            0.14984107, -0.1239355 , -0.11872365, -0.05069094,\n",
              "           -0.11824456, -0.1286691 , -0.21892813,  0.04693387]]]],\n",
              "       dtype=float32),\n",
              " array([-0.03394417, -0.25223336,  0.05201078,  0.04119451, -0.02738373,\n",
              "         0.02701546,  0.06954246, -0.01229408, -0.01449563, -0.04728764,\n",
              "         0.05629185,  0.04603935,  0.08166539, -0.01232528,  0.05288593,\n",
              "         0.00040247,  0.0476539 ,  0.04238018, -0.00031821,  0.01668024,\n",
              "         0.03700211, -0.01504425,  0.0559615 ,  0.06723218,  0.05080149,\n",
              "         0.03145681,  0.02988378,  0.06845988,  0.0498997 ,  0.06397536,\n",
              "        -0.00241895,  0.01645468], dtype=float32),\n",
              " array([[[[-0.10821483, -0.03833842,  0.13485491, ...,  0.04517952,\n",
              "            0.00868251,  0.09492791],\n",
              "          [-0.05465959, -0.11295623, -0.03672935, ..., -0.19126846,\n",
              "            0.05350194, -0.01642462],\n",
              "          [-0.00696217,  0.01595991, -0.04819819, ..., -0.23654369,\n",
              "           -0.06345387, -0.03759658],\n",
              "          ...,\n",
              "          [-0.05465874, -0.09105972, -0.06152283, ..., -0.1157951 ,\n",
              "           -0.02697791, -0.06309983],\n",
              "          [-0.06666316, -0.03429225, -0.03164048, ...,  0.04260039,\n",
              "            0.02673751,  0.05568435],\n",
              "          [-0.0345801 , -0.15329942, -0.02513042, ..., -0.00541122,\n",
              "           -0.05737349,  0.02840146]],\n",
              " \n",
              "         [[-0.09417479, -0.0376308 , -0.00205201, ...,  0.02955385,\n",
              "            0.05763848, -0.03387516],\n",
              "          [-0.1273497 ,  0.07341304, -0.08456208, ..., -0.02237288,\n",
              "            0.06325269, -0.13237788],\n",
              "          [-0.00058756, -0.06167154,  0.00244153, ..., -0.08396032,\n",
              "            0.03200331, -0.14270575],\n",
              "          ...,\n",
              "          [ 0.08093132,  0.09728274, -0.05517563, ..., -0.09654368,\n",
              "            0.03636721, -0.01542377],\n",
              "          [ 0.05758945,  0.00755464, -0.062911  , ..., -0.10488506,\n",
              "            0.05518281, -0.08916891],\n",
              "          [ 0.12786645, -0.01753226,  0.01459156, ..., -0.08817994,\n",
              "            0.05651386, -0.01359083]],\n",
              " \n",
              "         [[-0.05768333, -0.0156081 ,  0.01879227, ...,  0.02440817,\n",
              "            0.02991195, -0.05470924],\n",
              "          [-0.1266889 , -0.04421519, -0.0986816 , ..., -0.09866591,\n",
              "            0.01236488,  0.0188803 ],\n",
              "          [-0.03914505,  0.01151133, -0.06842286, ..., -0.06445634,\n",
              "            0.04923302, -0.02290412],\n",
              "          ...,\n",
              "          [-0.00982458,  0.0535224 ,  0.02497586, ...,  0.00784453,\n",
              "           -0.03604583, -0.05714228],\n",
              "          [ 0.13599741,  0.02302975, -0.07385439, ..., -0.08260916,\n",
              "           -0.03147842, -0.02123233],\n",
              "          [-0.18778664,  0.08047662, -0.04570647, ..., -0.06455979,\n",
              "           -0.14582433, -0.09215831]]],\n",
              " \n",
              " \n",
              "        [[[-0.04369872,  0.0553687 ,  0.03543124, ...,  0.02117273,\n",
              "           -0.01653797,  0.1322493 ],\n",
              "          [-0.12089878,  0.00251377, -0.04167945, ..., -0.09739213,\n",
              "           -0.06256263, -0.1958888 ],\n",
              "          [ 0.07326685, -0.0265367 , -0.15294366, ...,  0.00600037,\n",
              "           -0.02620547, -0.09902973],\n",
              "          ...,\n",
              "          [ 0.05559771, -0.09741655, -0.01663653, ..., -0.15556748,\n",
              "           -0.08202868,  0.04174768],\n",
              "          [-0.01325713, -0.13135132, -0.02674104, ..., -0.11878651,\n",
              "           -0.03935574, -0.01428362],\n",
              "          [ 0.17715088, -0.07882742, -0.02843486, ..., -0.15063016,\n",
              "           -0.04378492, -0.00987517]],\n",
              " \n",
              "         [[ 0.03827167, -0.07261149,  0.01510574, ...,  0.03649618,\n",
              "           -0.06106484,  0.05131654],\n",
              "          [-0.21136555, -0.04058828, -0.11759762, ..., -0.07189859,\n",
              "           -0.08723715, -0.1406664 ],\n",
              "          [-0.14585023,  0.01422272,  0.01533225, ...,  0.01798565,\n",
              "            0.01080517, -0.12727363],\n",
              "          ...,\n",
              "          [ 0.10291023, -0.03948488, -0.13256747, ..., -0.15198524,\n",
              "           -0.120839  , -0.03893774],\n",
              "          [ 0.17764962, -0.00056146, -0.03029879, ..., -0.16018336,\n",
              "            0.03436172, -0.0699802 ],\n",
              "          [ 0.03425163, -0.05008846, -0.05667821, ..., -0.06374839,\n",
              "            0.01796028, -0.0924248 ]],\n",
              " \n",
              "         [[ 0.07732154, -0.02598471, -0.0794457 , ..., -0.00270725,\n",
              "            0.01151364, -0.02363285],\n",
              "          [-0.10983942,  0.01238607, -0.15768845, ..., -0.04044701,\n",
              "            0.03501153, -0.14665976],\n",
              "          [-0.19419494,  0.0092242 , -0.03144878, ..., -0.07086068,\n",
              "            0.10092206, -0.03083463],\n",
              "          ...,\n",
              "          [-0.08549005,  0.10388968, -0.03483623, ...,  0.04962676,\n",
              "            0.04204665, -0.08854534],\n",
              "          [ 0.09627482,  0.02129069, -0.03170868, ..., -0.17420623,\n",
              "           -0.0059292 ,  0.00952864],\n",
              "          [-0.10240855, -0.01629798,  0.01174975, ..., -0.08315431,\n",
              "           -0.06319948, -0.00660159]]],\n",
              " \n",
              " \n",
              "        [[[ 0.00057072, -0.07478852, -0.0111966 , ..., -0.09480195,\n",
              "           -0.07990405,  0.09253953],\n",
              "          [ 0.01108423, -0.07278369, -0.11690895, ..., -0.04168387,\n",
              "           -0.10505199, -0.12490107],\n",
              "          [ 0.03742249,  0.06467263, -0.16227095, ...,  0.0652811 ,\n",
              "           -0.01066752, -0.06817266],\n",
              "          ...,\n",
              "          [ 0.03077093, -0.0829298 , -0.06942087, ..., -0.08295844,\n",
              "            0.03125983, -0.11507525],\n",
              "          [-0.01641634, -0.04793831, -0.08766581, ..., -0.13530584,\n",
              "           -0.08565209, -0.12030014],\n",
              "          [ 0.04766933, -0.00300364, -0.039286  , ..., -0.01639152,\n",
              "            0.01170844, -0.09122844]],\n",
              " \n",
              "         [[ 0.07130656, -0.10140235,  0.0461713 , ..., -0.00353846,\n",
              "            0.05110229, -0.07323338],\n",
              "          [-0.11944207,  0.03047549, -0.09903438, ..., -0.02649471,\n",
              "           -0.04366285, -0.15295936],\n",
              "          [-0.14634588,  0.05531354, -0.07680236, ..., -0.03430948,\n",
              "           -0.06243801,  0.04135852],\n",
              "          ...,\n",
              "          [-0.07208728,  0.06618751, -0.09235392, ..., -0.0433132 ,\n",
              "           -0.00706023, -0.03509125],\n",
              "          [ 0.03430828, -0.11666778, -0.01158019, ..., -0.17535055,\n",
              "           -0.07352792, -0.08136512],\n",
              "          [-0.05233266,  0.15130767, -0.14430973, ..., -0.01240084,\n",
              "            0.01919061, -0.01075514]],\n",
              " \n",
              "         [[ 0.10551063, -0.06923203, -0.11674408, ..., -0.05589498,\n",
              "            0.01569363, -0.03943565],\n",
              "          [ 0.04521336, -0.08280582, -0.08440012, ..., -0.00828566,\n",
              "           -0.01031575, -0.00726883],\n",
              "          [-0.1752704 ,  0.00246706,  0.04659245, ...,  0.08793316,\n",
              "            0.00325967,  0.01072298],\n",
              "          ...,\n",
              "          [ 0.03738014,  0.01730078, -0.02213426, ...,  0.06700616,\n",
              "           -0.10140979,  0.0307382 ],\n",
              "          [ 0.04616224,  0.09063065, -0.14432833, ..., -0.1690359 ,\n",
              "            0.07002479,  0.0191849 ],\n",
              "          [ 0.10779401, -0.0193812 ,  0.09193207, ...,  0.00364765,\n",
              "           -0.09558333,  0.04432191]]]], dtype=float32),\n",
              " array([ 0.04382074,  0.06137853,  0.06199392,  0.04924275,  0.04875767,\n",
              "         0.04123706,  0.03865517,  0.0505235 ,  0.03788742,  0.0510761 ,\n",
              "         0.04672027,  0.00253323,  0.04575808,  0.01096216,  0.03954783,\n",
              "         0.02060091,  0.07845169,  0.09807488,  0.05969631,  0.04790859,\n",
              "        -0.00177876,  0.02444114,  0.03464151,  0.05681867,  0.0208379 ,\n",
              "         0.02578388,  0.0902527 ,  0.04341346,  0.09972771,  0.07094256,\n",
              "         0.04990244,  0.07120488,  0.04071376,  0.14534053,  0.0253584 ,\n",
              "         0.05676542,  0.09498917,  0.08063383,  0.07874638,  0.0432664 ,\n",
              "         0.00822304,  0.07914083,  0.0740671 ,  0.05576278,  0.10608338,\n",
              "         0.01706041,  0.05413856,  0.05098448,  0.01349002,  0.05462848,\n",
              "         0.04601474,  0.04387707,  0.03203465,  0.05263904,  0.05893895,\n",
              "         0.0454275 , -0.01396328,  0.02066221,  0.04971823,  0.02358111,\n",
              "         0.0134995 ,  0.06547111,  0.02158405,  0.05402281], dtype=float32),\n",
              " array([[-0.02708108, -0.00647212, -0.01821722, ...,  0.02758401,\n",
              "         -0.04539122,  0.04274639],\n",
              "        [-0.00052659,  0.03510313,  0.03841071, ..., -0.01852643,\n",
              "         -0.01497613,  0.00124462],\n",
              "        [-0.00064371, -0.0266526 ,  0.02842342, ..., -0.00553814,\n",
              "          0.01985536,  0.03411352],\n",
              "        ...,\n",
              "        [ 0.00578002,  0.04245099, -0.01998601, ...,  0.0313944 ,\n",
              "          0.03094228, -0.0135924 ],\n",
              "        [ 0.01316732,  0.01306541, -0.03333373, ..., -0.00561409,\n",
              "         -0.00955721, -0.01970254],\n",
              "        [-0.00993221,  0.00919268,  0.02607595, ...,  0.00936611,\n",
              "          0.01700274, -0.04588274]], dtype=float32),\n",
              " array([-0.0060049 ,  0.03483714,  0.02484563,  0.01606606, -0.00201904,\n",
              "        -0.0337011 ,  0.05031387,  0.01243242,  0.0286791 ,  0.02195048,\n",
              "        -0.0143242 ,  0.01603522,  0.04004373, -0.01105571,  0.01466558,\n",
              "         0.00329635, -0.00214739,  0.01344733, -0.00659631,  0.02110765,\n",
              "         0.00665123,  0.0320421 ,  0.02875713,  0.03776467,  0.00512979,\n",
              "        -0.0061393 ,  0.01063987,  0.03261143,  0.05456765,  0.00329297,\n",
              "         0.00678253,  0.00801672,  0.01270269,  0.02471603, -0.00722989,\n",
              "         0.03179599, -0.01684437,  0.01775789,  0.01620651,  0.01328454,\n",
              "         0.04023552,  0.01851492,  0.0030824 ,  0.02521332, -0.00582478,\n",
              "        -0.00601438,  0.01120959,  0.03772589,  0.03671368,  0.03032619,\n",
              "         0.03228194,  0.02522646,  0.00484827, -0.00993999,  0.0297098 ,\n",
              "         0.01067395, -0.00754454, -0.00877604, -0.00353417, -0.00869491,\n",
              "         0.03970776,  0.0326773 ,  0.01007379,  0.02455921,  0.01994691,\n",
              "         0.01244604, -0.00609599,  0.0270106 , -0.01232171, -0.02078562,\n",
              "         0.03898162, -0.00124805,  0.02869239, -0.00169179,  0.00157706,\n",
              "        -0.00686292, -0.00156331,  0.00849978,  0.01205874, -0.00102405,\n",
              "         0.02935015,  0.02099492,  0.0101632 ,  0.01215241,  0.00875262,\n",
              "         0.02168803,  0.03316841, -0.00820865, -0.01321101,  0.02917584,\n",
              "         0.03007953,  0.03355059, -0.0059977 ,  0.03792997, -0.00790008,\n",
              "         0.03260273,  0.0393559 ,  0.0164529 , -0.00726448,  0.0064293 ,\n",
              "         0.02552444,  0.01844712, -0.00600507,  0.02151635,  0.01693784,\n",
              "        -0.00269147,  0.00522554,  0.00352292, -0.00882581,  0.03504357,\n",
              "         0.0187511 ,  0.04452959,  0.0480634 ,  0.04266472,  0.01403182,\n",
              "         0.00455218, -0.00629866, -0.00705401,  0.02882238,  0.01671314,\n",
              "         0.0089712 , -0.00600321, -0.01287389,  0.03081471,  0.02693645,\n",
              "         0.00196614,  0.0317058 ,  0.01933269], dtype=float32),\n",
              " array([[-0.1717962 , -0.15675025,  0.19794518, ...,  0.16296312,\n",
              "         -0.1941092 , -0.09802681],\n",
              "        [-0.32447657,  0.02568877, -0.00211901, ...,  0.07614198,\n",
              "          0.19001779, -0.25557375],\n",
              "        [ 0.12053067,  0.148115  , -0.03374873, ..., -0.13921644,\n",
              "          0.06077375, -0.27768055],\n",
              "        ...,\n",
              "        [-0.18796283, -0.09820932,  0.21783526, ...,  0.05962209,\n",
              "          0.00065904,  0.23375522],\n",
              "        [ 0.13096242,  0.16526906, -0.2946211 , ..., -0.21708159,\n",
              "         -0.17152476,  0.15242545],\n",
              "        [-0.11934649,  0.01150055,  0.18547997, ...,  0.19007699,\n",
              "         -0.27701735, -0.02766911]], dtype=float32),\n",
              " array([-0.01385284,  0.0130413 , -0.0031235 ,  0.06786706,  0.00229667,\n",
              "        -0.10173438,  0.02230898, -0.01099152], dtype=float32)]"
            ]
          },
          "metadata": {},
          "execution_count": 21
        }
      ]
    },
    {
      "cell_type": "code",
      "source": [
        "model.evaluate(train_spectrogram_ds)"
      ],
      "metadata": {
        "colab": {
          "base_uri": "https://localhost:8080/"
        },
        "id": "5-OfvXX693Kc",
        "outputId": "99801404-6f9c-443e-9b8c-a8877ae01b77"
      },
      "execution_count": 22,
      "outputs": [
        {
          "output_type": "stream",
          "name": "stdout",
          "text": [
            "100/100 [==============================] - 7s 72ms/step - loss: 0.1797 - accuracy: 0.9523\n"
          ]
        },
        {
          "output_type": "execute_result",
          "data": {
            "text/plain": [
              "[0.179737851023674, 0.952343761920929]"
            ]
          },
          "metadata": {},
          "execution_count": 22
        }
      ]
    },
    {
      "cell_type": "code",
      "source": [
        "import random\n",
        "import numpy as np\n",
        "\n",
        "labels = ['right', 'no', 'up', 'left', 'go', 'stop', 'down', 'yes']\n",
        "\n",
        "repeated_labels = labels * 30\n",
        "\n",
        "random.shuffle(repeated_labels)\n",
        "\n",
        "print(repeated_labels)"
      ],
      "metadata": {
        "colab": {
          "base_uri": "https://localhost:8080/"
        },
        "id": "IocupPjpLsSM",
        "outputId": "aeb5a95c-8886-43fc-acd2-b4df6de3baa4"
      },
      "execution_count": 23,
      "outputs": [
        {
          "output_type": "stream",
          "name": "stdout",
          "text": [
            "['down', 'right', 'left', 'up', 'up', 'stop', 'go', 'stop', 'up', 'left', 'right', 'left', 'yes', 'up', 'right', 'yes', 'no', 'up', 'no', 'no', 'left', 'up', 'stop', 'left', 'go', 'down', 'up', 'left', 'up', 'down', 'down', 'left', 'yes', 'up', 'stop', 'up', 'right', 'left', 'right', 'stop', 'down', 'left', 'stop', 'right', 'right', 'up', 'right', 'yes', 'no', 'no', 'yes', 'no', 'right', 'stop', 'down', 'right', 'left', 'down', 'stop', 'up', 'yes', 'yes', 'yes', 'go', 'down', 'go', 'up', 'yes', 'yes', 'go', 'no', 'yes', 'no', 'no', 'go', 'left', 'no', 'go', 'no', 'right', 'go', 'no', 'down', 'up', 'no', 'go', 'go', 'no', 'left', 'down', 'no', 'yes', 'down', 'left', 'up', 'stop', 'up', 'go', 'right', 'no', 'up', 'down', 'down', 'no', 'left', 'left', 'no', 'left', 'stop', 'up', 'left', 'go', 'right', 'yes', 'go', 'yes', 'left', 'no', 'left', 'right', 'stop', 'left', 'down', 'yes', 'stop', 'left', 'yes', 'right', 'no', 'go', 'left', 'yes', 'stop', 'up', 'down', 'stop', 'yes', 'yes', 'no', 'stop', 'up', 'go', 'left', 'no', 'stop', 'down', 'go', 'up', 'yes', 'left', 'go', 'stop', 'right', 'down', 'yes', 'go', 'right', 'go', 'up', 'down', 'right', 'stop', 'go', 'stop', 'down', 'right', 'stop', 'right', 'up', 'go', 'right', 'yes', 'go', 'go', 'right', 'yes', 'down', 'go', 'yes', 'down', 'up', 'down', 'right', 'no', 'left', 'go', 'left', 'left', 'stop', 'stop', 'no', 'down', 'go', 'no', 'no', 'yes', 'down', 'no', 'stop', 'down', 'right', 'go', 'no', 'down', 'stop', 'yes', 'up', 'yes', 'down', 'right', 'right', 'up', 'down', 'up', 'stop', 'go', 'down', 'left', 'right', 'yes', 'right', 'up', 'go', 'up', 'go', 'stop', 'no', 'yes', 'left', 'yes', 'down', 'stop', 'left', 'stop', 'right', 'stop', 'no', 'stop', 'right', 'up']\n"
          ]
        }
      ]
    },
    {
      "cell_type": "code",
      "source": [
        "!pip install sounddevice wave"
      ],
      "metadata": {
        "colab": {
          "base_uri": "https://localhost:8080/"
        },
        "id": "lIEZ0ZvVLxth",
        "outputId": "375253b8-7ac5-4353-9d1b-301212f2162d"
      },
      "execution_count": 24,
      "outputs": [
        {
          "output_type": "stream",
          "name": "stdout",
          "text": [
            "Requirement already satisfied: sounddevice in /usr/local/lib/python3.10/dist-packages (0.5.0)\n",
            "Requirement already satisfied: wave in /usr/local/lib/python3.10/dist-packages (0.0.2)\n",
            "Requirement already satisfied: CFFI>=1.0 in /usr/local/lib/python3.10/dist-packages (from sounddevice) (1.16.0)\n",
            "Requirement already satisfied: pycparser in /usr/local/lib/python3.10/dist-packages (from CFFI>=1.0->sounddevice) (2.22)\n"
          ]
        }
      ]
    },
    {
      "cell_type": "code",
      "source": [
        "import sounddevice as sd\n",
        "import wave\n",
        "import os\n",
        "import random\n",
        "import time\n",
        "\n",
        "labels = ['right', 'no', 'up', 'left', 'go', 'stop', 'down', 'yes']\n",
        "dictionary = {'right': 1, 'no': 2, 'up': 3, 'left': 4, 'go': 5, 'stop': 6, 'down': 7, 'yes': 8}\n",
        "repeated_labels = labels * 30\n",
        "random.shuffle(repeated_labels)\n",
        "\n",
        "output_dir = 'recordings'\n",
        "duration = 1  # seconds\n",
        "sample_rate = 16000\n",
        "no_labels = len(repeated_labels)\n",
        "\n",
        "if not os.path.exists(output_dir):\n",
        "    os.mkdir(output_dir)\n",
        "\n",
        "for i in range(no_labels):\n",
        "    label = repeated_labels[i]\n",
        "    print(f\"{label}\")\n",
        "    time.sleep(1)\n",
        "    print(\"recording\")\n",
        "    audio = sd.rec(int(sample_rate * duration), samplerate=sample_rate, channels=1, dtype='int16')\n",
        "    sd.wait()\n",
        "\n",
        "    sd.play(audio, samplerate=sample_rate)\n",
        "    sd.wait()\n",
        "    time.sleep(1)\n",
        "\n",
        "    filename = os.path.join(output_dir, f\"{i}.wav\")\n",
        "    with wave.open(filename, 'wb') as wf:\n",
        "        wf.setnchannels(1)\n",
        "        wf.setsampwidth(2)\n",
        "        wf.setframerate(sample_rate)\n",
        "        wf.writeframes(audio.tobytes())\n",
        "\n",
        "    print(f\"Saved recording for {label} to {filename}\")\n",
        "\n",
        "print(\"All recordings are complete.\")\n",
        "\n",
        "with open(os.path.join(output_dir,'labels.txt'), 'w') as lf:\n",
        "    for label in repeated_labels:\n",
        "        lf.write(f\"{dictionary[label]}\\n\")\n"
      ],
      "metadata": {
        "id": "XHIO6NJybliR"
      },
      "execution_count": null,
      "outputs": []
    },
    {
      "cell_type": "code",
      "source": [
        "from google.colab import drive\n",
        "drive.mount('/drive')"
      ],
      "metadata": {
        "colab": {
          "base_uri": "https://localhost:8080/"
        },
        "id": "9EBPWq6LQkq-",
        "outputId": "31c5d13f-f883-4ea8-e6d4-f03ffc58b062"
      },
      "execution_count": 25,
      "outputs": [
        {
          "output_type": "stream",
          "name": "stdout",
          "text": [
            "Drive already mounted at /drive; to attempt to forcibly remount, call drive.mount(\"/drive\", force_remount=True).\n"
          ]
        }
      ]
    },
    {
      "cell_type": "code",
      "source": [
        "!pip install spicy"
      ],
      "metadata": {
        "colab": {
          "base_uri": "https://localhost:8080/"
        },
        "id": "TX9Z9jO1e_jH",
        "outputId": "e827ee4d-0b16-47ca-b0ff-c1138741e789"
      },
      "execution_count": 26,
      "outputs": [
        {
          "output_type": "stream",
          "name": "stdout",
          "text": [
            "Requirement already satisfied: spicy in /usr/local/lib/python3.10/dist-packages (0.16.0)\n",
            "Requirement already satisfied: scipy in /usr/local/lib/python3.10/dist-packages (from spicy) (1.11.4)\n",
            "Requirement already satisfied: numpy<1.28.0,>=1.21.6 in /usr/local/lib/python3.10/dist-packages (from scipy->spicy) (1.25.2)\n"
          ]
        }
      ]
    },
    {
      "cell_type": "code",
      "source": [
        "import tensorflow as tf\n",
        "import os\n",
        "import numpy as np\n",
        "from scipy.io import wavfile\n",
        "\n",
        "record_dir = '/drive/MyDrive/recordings'\n",
        "label_file = os.path.join(record_dir, 'labels.txt')\n",
        "\n",
        "with open(label_file, 'r') as f:\n",
        "    labels = f.read().splitlines()\n",
        "\n",
        "labels = [int(label) for label in labels]\n",
        "\n",
        "file_paths = [os.path.join(record_dir, f\"{i + 1}.wav\") for i in range(len(labels))]\n",
        "\n",
        "target_length = 16000\n",
        "\n",
        "def load_wav(file_path, label):\n",
        "    sample_rate, audio = wavfile.read(file_path)\n",
        "    audio = tf.convert_to_tensor(audio, dtype=tf.float32)\n",
        "\n",
        "    audio = audio / np.max(np.abs(audio))\n",
        "\n",
        "    if tf.shape(audio)[0] < target_length:\n",
        "        padding = target_length - tf.shape(audio)[0]\n",
        "        audio = tf.pad(audio, [[0, padding]])\n",
        "    else:\n",
        "        audio = audio[:target_length]\n",
        "\n",
        "    audio = tf.expand_dims(audio, axis=0)\n",
        "    audio = tf.expand_dims(audio, axis=0)\n",
        "\n",
        "    return audio, label\n",
        "\n",
        "dataset = tf.data.Dataset.from_tensor_slices((file_paths, labels))\n",
        "\n",
        "dataset = dataset.map(lambda file_path, label: tf.py_function(load_wav, [file_path, label], [tf.float32, tf.int32]))\n",
        "\n",
        "dataset = dataset.map(lambda audio, label: (tf.ensure_shape(audio, [None, target_length, None]), tf.ensure_shape(label, [])))\n",
        "\n",
        "dataset = dataset.shuffle(buffer_size=len(labels)).batch(64)\n"
      ],
      "metadata": {
        "id": "34XdhGK2gXmL"
      },
      "execution_count": 27,
      "outputs": []
    },
    {
      "cell_type": "code",
      "source": [
        "def reshape_audio(audio, label):\n",
        "    audio = tf.reshape(audio, [target_length])\n",
        "    return audio, label\n",
        "\n",
        "dataset = dataset.map(lambda audio, label: tf.py_function(reshape_audio, [audio, label], [tf.float32, tf.int32]))\n",
        "\n",
        "dataset = dataset.map(lambda audio, label: (tf.ensure_shape(audio, [16000, ]), tf.ensure_shape(label, [])))\n",
        "\n",
        "dataset = dataset.shuffle(buffer_size=len(labels)).batch(64)\n"
      ],
      "metadata": {
        "id": "W4i-by-fpwuE"
      },
      "execution_count": 31,
      "outputs": []
    },
    {
      "cell_type": "code",
      "source": [
        "dataset\n"
      ],
      "metadata": {
        "colab": {
          "base_uri": "https://localhost:8080/"
        },
        "id": "CMuSSOjqiiKC",
        "outputId": "42000e64-7da9-4aff-bf5c-aa51f7be9cba"
      },
      "execution_count": 32,
      "outputs": [
        {
          "output_type": "execute_result",
          "data": {
            "text/plain": [
              "<_BatchDataset element_spec=(TensorSpec(shape=(None, 16000), dtype=tf.float32, name=None), TensorSpec(shape=(None,), dtype=tf.int32, name=None))>"
            ]
          },
          "metadata": {},
          "execution_count": 32
        }
      ]
    },
    {
      "cell_type": "code",
      "source": [
        "train_ds"
      ],
      "metadata": {
        "colab": {
          "base_uri": "https://localhost:8080/"
        },
        "id": "lDFSMUzEkoX9",
        "outputId": "0ab8129c-b874-44c2-e929-8504544541c5"
      },
      "execution_count": 72,
      "outputs": [
        {
          "output_type": "execute_result",
          "data": {
            "text/plain": [
              "<_BatchDataset element_spec=(TensorSpec(shape=(None, 16000, None), dtype=tf.float32, name=None), TensorSpec(shape=(None,), dtype=tf.int32, name=None))>"
            ]
          },
          "metadata": {},
          "execution_count": 72
        }
      ]
    },
    {
      "cell_type": "code",
      "source": [
        "dataset_spectrogram_ds = make_spec_ds(dataset)"
      ],
      "metadata": {
        "id": "AbPPnFISksvz"
      },
      "execution_count": 77,
      "outputs": []
    },
    {
      "cell_type": "code",
      "source": [
        "train_spectrogram_ds.take(1)"
      ],
      "metadata": {
        "colab": {
          "base_uri": "https://localhost:8080/"
        },
        "id": "5G7ul6S8lLYo",
        "outputId": "3c0c52cd-f7ee-4169-9d54-b37d986127db"
      },
      "execution_count": 70,
      "outputs": [
        {
          "output_type": "execute_result",
          "data": {
            "text/plain": [
              "<_TakeDataset element_spec=(TensorSpec(shape=(None, 124, 129, 1), dtype=tf.float32, name=None), TensorSpec(shape=(None,), dtype=tf.int32, name=None))>"
            ]
          },
          "metadata": {},
          "execution_count": 70
        }
      ]
    },
    {
      "cell_type": "code",
      "source": [
        "def get_spectrogram(waveform):\n",
        "  spectrogram = tf.signal.stft(\n",
        "      waveform, frame_length=255, frame_step=128)\n",
        "  spectrogram = tf.abs(spectrogram)\n",
        "  spectrogram = spectrogram[..., tf.newaxis]\n",
        "  return spectrogram\n",
        "\n",
        "def make_spec_ds(ds):\n",
        "  return ds.map(\n",
        "      map_func=lambda audio,label: (get_spectrogram(audio), label),\n",
        "      num_parallel_calls=tf.data.AUTOTUNE)\n",
        "\n",
        "dataset_spectrogram_ds = make_spec_ds(dataset)\n",
        "train_spectrogram_ds = make_spec_ds(train_ds)\n",
        "dataset_spectrogram_ds = dataset_spectrogram_ds.cache().shuffle(10000).prefetch(tf.data.AUTOTUNE)\n",
        "dataset_spectrogram_ds.take(1)"
      ],
      "metadata": {
        "colab": {
          "base_uri": "https://localhost:8080/"
        },
        "id": "7hX5s9KvlOfL",
        "outputId": "1c2ec056-d50c-47ef-b159-dba83ab4d212"
      },
      "execution_count": 34,
      "outputs": [
        {
          "output_type": "execute_result",
          "data": {
            "text/plain": [
              "<_TakeDataset element_spec=(TensorSpec(shape=(None, 124, 129, 1), dtype=tf.float32, name=None), TensorSpec(shape=(None,), dtype=tf.int32, name=None))>"
            ]
          },
          "metadata": {},
          "execution_count": 34
        }
      ]
    },
    {
      "cell_type": "code",
      "source": [
        "train_spectrogram_ds.take(1)"
      ],
      "metadata": {
        "colab": {
          "base_uri": "https://localhost:8080/"
        },
        "id": "7HIdvRjErvwH",
        "outputId": "26804e22-4650-4c79-ea3f-8542013d606d"
      },
      "execution_count": 37,
      "outputs": [
        {
          "output_type": "execute_result",
          "data": {
            "text/plain": [
              "<_TakeDataset element_spec=(TensorSpec(shape=(None, 124, 129, 1), dtype=tf.float32, name=None), TensorSpec(shape=(None,), dtype=tf.int32, name=None))>"
            ]
          },
          "metadata": {},
          "execution_count": 37
        }
      ]
    },
    {
      "cell_type": "code",
      "source": [
        "model.evaluate(dataset_spectrogram_ds)"
      ],
      "metadata": {
        "id": "XIys6vJGlEQA"
      },
      "execution_count": null,
      "outputs": []
    },
    {
      "cell_type": "code",
      "source": [
        "from keras_tuner import HyperParameters\n",
        "\n",
        "def tuned_model(hp):\n",
        "    model = models.Sequential()\n",
        "\n",
        "    hp_units = hp.Int('units', min_value=32, max_value=512, step=32)\n",
        "    model.add(layers.Dense(hp_units, activation='relu', input_shape=(784,)))\n",
        "\n",
        "    hp_dropout = hp.Float('dropout', min_value=0.1, max_value=0.5, step=0.1)\n",
        "    model.add(layers.Dropout(hp_dropout))\n",
        "\n",
        "    model.add(layers.Dense(10, activation='softmax'))\n",
        "\n",
        "    hp_learning_rate = hp.Choice('learning_rate', values=[1e-2, 1e-3, 1e-4])\n",
        "\n",
        "    model.compile(optimizer=tf.keras.optimizers.Adam(learning_rate=hp_learning_rate),\n",
        "                  loss='sparse_categorical_crossentropy',\n",
        "                  metrics=['accuracy'])\n",
        "\n",
        "    return model"
      ],
      "metadata": {
        "id": "1NeZb1NUqt4F"
      },
      "execution_count": null,
      "outputs": []
    },
    {
      "cell_type": "code",
      "source": [
        "from keras_tuner import RandomSearch\n",
        "\n",
        "tuner = RandomSearch(\n",
        "    tuned_model,\n",
        "    objective='val_accuracy',\n",
        "    max_trials=5,\n",
        "    executions_per_trial=1,\n",
        "    directory='my_dir',\n",
        "    project_name='my_project'\n",
        ")\n",
        "\n",
        "(x_train, y_train), (x_val, y_val) = tf.keras.datasets.mnist.load_data()\n",
        "x_train = x_train.reshape(-1, 28 * 28).astype('float32') / 255.0\n",
        "x_val = x_val.reshape(-1, 28 * 28).astype('float32') / 255.0\n",
        "\n",
        "tuner.search(x_train, y_train, epochs=5, validation_data=(x_val, y_val))"
      ],
      "metadata": {
        "id": "-ud4YKjNt7xT"
      },
      "execution_count": null,
      "outputs": []
    },
    {
      "cell_type": "code",
      "source": [
        "best_hps = tuner.get_best_hyperparameters(num_trials=1)[0]\n",
        "\n",
        "best_model = tuner.hypermodel.build(best_hps)\n",
        "\n",
        "best_model.fit(x_train, y_train, epochs=10, validation_data=(x_val, y_val))"
      ],
      "metadata": {
        "id": "aVIAR2VAuJi2"
      },
      "execution_count": null,
      "outputs": []
    }
  ]
}